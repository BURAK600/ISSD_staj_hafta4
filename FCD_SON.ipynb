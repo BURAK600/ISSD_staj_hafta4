{
 "cells": [
  {
   "cell_type": "code",
   "execution_count": 1,
   "id": "1d793a4c",
   "metadata": {},
   "outputs": [],
   "source": [
    "import numpy as np \n",
    "import pandas as pd\n",
    "import matplotlib.pyplot as plt\n",
    "data_dynamic1 = pd.read_csv(r\"06.2.w_e_030321_fcdDynamicData.csv\")\n",
    "data_dynamic2 = pd.read_csv(r\"06.2.w_e_040321_fcdDynamicData.csv\")\n",
    "data_dynamic3 = pd.read_csv(r\"06.2.w_e_050321_fcdDynamicData.csv\")\n",
    "data_dynamic4 = pd.read_csv(r\"06.2.w_e_150321_fcdDynamicData.csv\")\n",
    "\n",
    "data_static = pd.read_csv(r\"06.2.w_e_fcdStaticData.csv\")\n",
    "\n",
    "\n",
    "\n",
    "\n",
    "\n"
   ]
  },
  {
   "cell_type": "code",
   "execution_count": null,
   "id": "b32cf9d7",
   "metadata": {},
   "outputs": [],
   "source": []
  },
  {
   "cell_type": "code",
   "execution_count": 2,
   "id": "9bc1129d",
   "metadata": {},
   "outputs": [
    {
     "data": {
      "text/html": [
       "<div>\n",
       "<style scoped>\n",
       "    .dataframe tbody tr th:only-of-type {\n",
       "        vertical-align: middle;\n",
       "    }\n",
       "\n",
       "    .dataframe tbody tr th {\n",
       "        vertical-align: top;\n",
       "    }\n",
       "\n",
       "    .dataframe thead th {\n",
       "        text-align: right;\n",
       "    }\n",
       "</style>\n",
       "<table border=\"1\" class=\"dataframe\">\n",
       "  <thead>\n",
       "    <tr style=\"text-align: right;\">\n",
       "      <th></th>\n",
       "      <th>discoveryTime</th>\n",
       "      <th>segmentId</th>\n",
       "      <th>travelTime</th>\n",
       "      <th>coverage</th>\n",
       "      <th>lengthmm</th>\n",
       "      <th>speedLimitKph</th>\n",
       "    </tr>\n",
       "  </thead>\n",
       "  <tbody>\n",
       "    <tr>\n",
       "      <th>0</th>\n",
       "      <td>2021-03-15 00:00:00</td>\n",
       "      <td>131016</td>\n",
       "      <td>1576</td>\n",
       "      <td>10</td>\n",
       "      <td>30651</td>\n",
       "      <td>70</td>\n",
       "    </tr>\n",
       "    <tr>\n",
       "      <th>1</th>\n",
       "      <td>2021-03-15 00:00:00</td>\n",
       "      <td>134879</td>\n",
       "      <td>1311</td>\n",
       "      <td>10</td>\n",
       "      <td>25508</td>\n",
       "      <td>70</td>\n",
       "    </tr>\n",
       "    <tr>\n",
       "      <th>2</th>\n",
       "      <td>2021-03-15 00:00:00</td>\n",
       "      <td>135146</td>\n",
       "      <td>1539</td>\n",
       "      <td>10</td>\n",
       "      <td>29935</td>\n",
       "      <td>70</td>\n",
       "    </tr>\n",
       "    <tr>\n",
       "      <th>3</th>\n",
       "      <td>2021-03-15 00:00:00</td>\n",
       "      <td>182928</td>\n",
       "      <td>1769</td>\n",
       "      <td>10</td>\n",
       "      <td>34413</td>\n",
       "      <td>70</td>\n",
       "    </tr>\n",
       "    <tr>\n",
       "      <th>4</th>\n",
       "      <td>2021-03-15 00:00:00</td>\n",
       "      <td>182929</td>\n",
       "      <td>1769</td>\n",
       "      <td>10</td>\n",
       "      <td>34413</td>\n",
       "      <td>70</td>\n",
       "    </tr>\n",
       "    <tr>\n",
       "      <th>...</th>\n",
       "      <td>...</td>\n",
       "      <td>...</td>\n",
       "      <td>...</td>\n",
       "      <td>...</td>\n",
       "      <td>...</td>\n",
       "      <td>...</td>\n",
       "    </tr>\n",
       "    <tr>\n",
       "      <th>82578</th>\n",
       "      <td>2021-03-15 23:56:00</td>\n",
       "      <td>7425668</td>\n",
       "      <td>3062</td>\n",
       "      <td>10</td>\n",
       "      <td>42529</td>\n",
       "      <td>50</td>\n",
       "    </tr>\n",
       "    <tr>\n",
       "      <th>82579</th>\n",
       "      <td>2021-03-15 23:56:00</td>\n",
       "      <td>7425669</td>\n",
       "      <td>3062</td>\n",
       "      <td>10</td>\n",
       "      <td>42529</td>\n",
       "      <td>50</td>\n",
       "    </tr>\n",
       "    <tr>\n",
       "      <th>82580</th>\n",
       "      <td>2021-03-15 23:56:00</td>\n",
       "      <td>7452950</td>\n",
       "      <td>3480</td>\n",
       "      <td>10</td>\n",
       "      <td>48346</td>\n",
       "      <td>50</td>\n",
       "    </tr>\n",
       "    <tr>\n",
       "      <th>82581</th>\n",
       "      <td>2021-03-15 23:56:00</td>\n",
       "      <td>7452951</td>\n",
       "      <td>2036</td>\n",
       "      <td>10</td>\n",
       "      <td>28279</td>\n",
       "      <td>50</td>\n",
       "    </tr>\n",
       "    <tr>\n",
       "      <th>82582</th>\n",
       "      <td>2021-03-15 23:56:00</td>\n",
       "      <td>7452952</td>\n",
       "      <td>2036</td>\n",
       "      <td>10</td>\n",
       "      <td>28279</td>\n",
       "      <td>50</td>\n",
       "    </tr>\n",
       "  </tbody>\n",
       "</table>\n",
       "<p>82583 rows × 6 columns</p>\n",
       "</div>"
      ],
      "text/plain": [
       "             discoveryTime  segmentId  travelTime  coverage  lengthmm  \\\n",
       "0      2021-03-15 00:00:00     131016        1576        10     30651   \n",
       "1      2021-03-15 00:00:00     134879        1311        10     25508   \n",
       "2      2021-03-15 00:00:00     135146        1539        10     29935   \n",
       "3      2021-03-15 00:00:00     182928        1769        10     34413   \n",
       "4      2021-03-15 00:00:00     182929        1769        10     34413   \n",
       "...                    ...        ...         ...       ...       ...   \n",
       "82578  2021-03-15 23:56:00    7425668        3062        10     42529   \n",
       "82579  2021-03-15 23:56:00    7425669        3062        10     42529   \n",
       "82580  2021-03-15 23:56:00    7452950        3480        10     48346   \n",
       "82581  2021-03-15 23:56:00    7452951        2036        10     28279   \n",
       "82582  2021-03-15 23:56:00    7452952        2036        10     28279   \n",
       "\n",
       "       speedLimitKph  \n",
       "0                 70  \n",
       "1                 70  \n",
       "2                 70  \n",
       "3                 70  \n",
       "4                 70  \n",
       "...              ...  \n",
       "82578             50  \n",
       "82579             50  \n",
       "82580             50  \n",
       "82581             50  \n",
       "82582             50  \n",
       "\n",
       "[82583 rows x 6 columns]"
      ]
     },
     "execution_count": 2,
     "metadata": {},
     "output_type": "execute_result"
    }
   ],
   "source": [
    "df1 = data_dynamic1.merge(data_static, on='segmentId', how='left') \n",
    "df2 = data_dynamic2.merge(data_static, on='segmentId', how='left') \n",
    "df3 = data_dynamic3.merge(data_static, on='segmentId', how='left') \n",
    "df4_testdata = data_dynamic4.merge(data_static, on='segmentId', how='left') \n",
    "\n",
    "\n",
    "\n",
    "df4_testdata"
   ]
  },
  {
   "cell_type": "code",
   "execution_count": 3,
   "id": "1af3f1de",
   "metadata": {},
   "outputs": [
    {
     "data": {
      "text/html": [
       "<div>\n",
       "<style scoped>\n",
       "    .dataframe tbody tr th:only-of-type {\n",
       "        vertical-align: middle;\n",
       "    }\n",
       "\n",
       "    .dataframe tbody tr th {\n",
       "        vertical-align: top;\n",
       "    }\n",
       "\n",
       "    .dataframe thead th {\n",
       "        text-align: right;\n",
       "    }\n",
       "</style>\n",
       "<table border=\"1\" class=\"dataframe\">\n",
       "  <thead>\n",
       "    <tr style=\"text-align: right;\">\n",
       "      <th></th>\n",
       "      <th>discoveryTime</th>\n",
       "      <th>segmentId</th>\n",
       "      <th>travelTime</th>\n",
       "      <th>lengthmm</th>\n",
       "      <th>speedLimitKph</th>\n",
       "    </tr>\n",
       "  </thead>\n",
       "  <tbody>\n",
       "    <tr>\n",
       "      <th>0</th>\n",
       "      <td>2021-03-03 00:00:00</td>\n",
       "      <td>131016</td>\n",
       "      <td>1576</td>\n",
       "      <td>30651</td>\n",
       "      <td>70</td>\n",
       "    </tr>\n",
       "    <tr>\n",
       "      <th>1</th>\n",
       "      <td>2021-03-03 00:00:00</td>\n",
       "      <td>134879</td>\n",
       "      <td>1311</td>\n",
       "      <td>25508</td>\n",
       "      <td>70</td>\n",
       "    </tr>\n",
       "    <tr>\n",
       "      <th>2</th>\n",
       "      <td>2021-03-03 00:00:00</td>\n",
       "      <td>135146</td>\n",
       "      <td>1539</td>\n",
       "      <td>29935</td>\n",
       "      <td>70</td>\n",
       "    </tr>\n",
       "    <tr>\n",
       "      <th>3</th>\n",
       "      <td>2021-03-03 00:00:00</td>\n",
       "      <td>182928</td>\n",
       "      <td>1769</td>\n",
       "      <td>34413</td>\n",
       "      <td>70</td>\n",
       "    </tr>\n",
       "    <tr>\n",
       "      <th>4</th>\n",
       "      <td>2021-03-03 00:00:00</td>\n",
       "      <td>182929</td>\n",
       "      <td>1769</td>\n",
       "      <td>34413</td>\n",
       "      <td>70</td>\n",
       "    </tr>\n",
       "    <tr>\n",
       "      <th>...</th>\n",
       "      <td>...</td>\n",
       "      <td>...</td>\n",
       "      <td>...</td>\n",
       "      <td>...</td>\n",
       "      <td>...</td>\n",
       "    </tr>\n",
       "    <tr>\n",
       "      <th>263391</th>\n",
       "      <td>2021-03-05 23:55:00</td>\n",
       "      <td>7425668</td>\n",
       "      <td>3062</td>\n",
       "      <td>42529</td>\n",
       "      <td>50</td>\n",
       "    </tr>\n",
       "    <tr>\n",
       "      <th>263392</th>\n",
       "      <td>2021-03-05 23:55:00</td>\n",
       "      <td>7425669</td>\n",
       "      <td>3062</td>\n",
       "      <td>42529</td>\n",
       "      <td>50</td>\n",
       "    </tr>\n",
       "    <tr>\n",
       "      <th>263393</th>\n",
       "      <td>2021-03-05 23:55:00</td>\n",
       "      <td>7452950</td>\n",
       "      <td>3480</td>\n",
       "      <td>48346</td>\n",
       "      <td>50</td>\n",
       "    </tr>\n",
       "    <tr>\n",
       "      <th>263394</th>\n",
       "      <td>2021-03-05 23:55:00</td>\n",
       "      <td>7452951</td>\n",
       "      <td>2036</td>\n",
       "      <td>28279</td>\n",
       "      <td>50</td>\n",
       "    </tr>\n",
       "    <tr>\n",
       "      <th>263395</th>\n",
       "      <td>2021-03-05 23:55:00</td>\n",
       "      <td>7452952</td>\n",
       "      <td>2036</td>\n",
       "      <td>28279</td>\n",
       "      <td>50</td>\n",
       "    </tr>\n",
       "  </tbody>\n",
       "</table>\n",
       "<p>263396 rows × 5 columns</p>\n",
       "</div>"
      ],
      "text/plain": [
       "              discoveryTime  segmentId  travelTime  lengthmm  speedLimitKph\n",
       "0       2021-03-03 00:00:00     131016        1576     30651             70\n",
       "1       2021-03-03 00:00:00     134879        1311     25508             70\n",
       "2       2021-03-03 00:00:00     135146        1539     29935             70\n",
       "3       2021-03-03 00:00:00     182928        1769     34413             70\n",
       "4       2021-03-03 00:00:00     182929        1769     34413             70\n",
       "...                     ...        ...         ...       ...            ...\n",
       "263391  2021-03-05 23:55:00    7425668        3062     42529             50\n",
       "263392  2021-03-05 23:55:00    7425669        3062     42529             50\n",
       "263393  2021-03-05 23:55:00    7452950        3480     48346             50\n",
       "263394  2021-03-05 23:55:00    7452951        2036     28279             50\n",
       "263395  2021-03-05 23:55:00    7452952        2036     28279             50\n",
       "\n",
       "[263396 rows x 5 columns]"
      ]
     },
     "execution_count": 3,
     "metadata": {},
     "output_type": "execute_result"
    }
   ],
   "source": [
    "\n",
    "d1 = pd.concat((df1,df2),axis = 0)\n",
    "\n",
    "df1 = pd.concat((d1,df3),axis = 0)\n",
    "\n",
    "df1.reset_index(inplace=True)\n",
    "\n",
    "df1.drop(\"coverage\", axis = 1,inplace = True)\n",
    "df1.drop(\"index\", axis = 1, inplace = True)\n",
    "\n",
    "df1"
   ]
  },
  {
   "cell_type": "code",
   "execution_count": 4,
   "id": "12622165",
   "metadata": {},
   "outputs": [],
   "source": [
    "from sklearn import preprocessing\n",
    "le1 = preprocessing.LabelEncoder()\n",
    "\n",
    "\n",
    "\n",
    "\"\"\"\n",
    "df1['discoveryTime'] = df1['discoveryTime'].str[11:]\n",
    "df4_testdata['discoveryTime'] = df4_testdata['discoveryTime'].str[11:]\"\"\"\n",
    "\n",
    "\n",
    "\n",
    "df4_testdata.sort_values(by = \"segmentId\", ascending=True)\n",
    "\n",
    "df4_testdata[\"segmentId\"] = le1.fit_transform(df4_testdata[\"segmentId\"])\n",
    "\n"
   ]
  },
  {
   "cell_type": "code",
   "execution_count": 5,
   "id": "330dc490",
   "metadata": {},
   "outputs": [
    {
     "data": {
      "text/html": [
       "<div>\n",
       "<style scoped>\n",
       "    .dataframe tbody tr th:only-of-type {\n",
       "        vertical-align: middle;\n",
       "    }\n",
       "\n",
       "    .dataframe tbody tr th {\n",
       "        vertical-align: top;\n",
       "    }\n",
       "\n",
       "    .dataframe thead th {\n",
       "        text-align: right;\n",
       "    }\n",
       "</style>\n",
       "<table border=\"1\" class=\"dataframe\">\n",
       "  <thead>\n",
       "    <tr style=\"text-align: right;\">\n",
       "      <th></th>\n",
       "      <th>discoveryTime</th>\n",
       "      <th>segmentId</th>\n",
       "      <th>travelTime</th>\n",
       "      <th>lengthmm</th>\n",
       "      <th>speedLimitKph</th>\n",
       "      <th>speed</th>\n",
       "    </tr>\n",
       "  </thead>\n",
       "  <tbody>\n",
       "    <tr>\n",
       "      <th>0</th>\n",
       "      <td>2021-03-03 00:00:00</td>\n",
       "      <td>131016</td>\n",
       "      <td>0.000438</td>\n",
       "      <td>0.030651</td>\n",
       "      <td>70</td>\n",
       "      <td>70.014975</td>\n",
       "    </tr>\n",
       "    <tr>\n",
       "      <th>1</th>\n",
       "      <td>2021-03-03 00:00:00</td>\n",
       "      <td>134879</td>\n",
       "      <td>0.000364</td>\n",
       "      <td>0.025508</td>\n",
       "      <td>70</td>\n",
       "      <td>70.044851</td>\n",
       "    </tr>\n",
       "    <tr>\n",
       "      <th>2</th>\n",
       "      <td>2021-03-03 00:00:00</td>\n",
       "      <td>135146</td>\n",
       "      <td>0.000428</td>\n",
       "      <td>0.029935</td>\n",
       "      <td>70</td>\n",
       "      <td>70.023392</td>\n",
       "    </tr>\n",
       "    <tr>\n",
       "      <th>3</th>\n",
       "      <td>2021-03-03 00:00:00</td>\n",
       "      <td>182928</td>\n",
       "      <td>0.000491</td>\n",
       "      <td>0.034413</td>\n",
       "      <td>70</td>\n",
       "      <td>70.032108</td>\n",
       "    </tr>\n",
       "    <tr>\n",
       "      <th>4</th>\n",
       "      <td>2021-03-03 00:00:00</td>\n",
       "      <td>182929</td>\n",
       "      <td>0.000491</td>\n",
       "      <td>0.034413</td>\n",
       "      <td>70</td>\n",
       "      <td>70.032108</td>\n",
       "    </tr>\n",
       "    <tr>\n",
       "      <th>...</th>\n",
       "      <td>...</td>\n",
       "      <td>...</td>\n",
       "      <td>...</td>\n",
       "      <td>...</td>\n",
       "      <td>...</td>\n",
       "      <td>...</td>\n",
       "    </tr>\n",
       "    <tr>\n",
       "      <th>263391</th>\n",
       "      <td>2021-03-05 23:55:00</td>\n",
       "      <td>7425668</td>\n",
       "      <td>0.000851</td>\n",
       "      <td>0.042529</td>\n",
       "      <td>50</td>\n",
       "      <td>50.001437</td>\n",
       "    </tr>\n",
       "    <tr>\n",
       "      <th>263392</th>\n",
       "      <td>2021-03-05 23:55:00</td>\n",
       "      <td>7425669</td>\n",
       "      <td>0.000851</td>\n",
       "      <td>0.042529</td>\n",
       "      <td>50</td>\n",
       "      <td>50.001437</td>\n",
       "    </tr>\n",
       "    <tr>\n",
       "      <th>263393</th>\n",
       "      <td>2021-03-05 23:55:00</td>\n",
       "      <td>7452950</td>\n",
       "      <td>0.000967</td>\n",
       "      <td>0.048346</td>\n",
       "      <td>50</td>\n",
       "      <td>50.013103</td>\n",
       "    </tr>\n",
       "    <tr>\n",
       "      <th>263394</th>\n",
       "      <td>2021-03-05 23:55:00</td>\n",
       "      <td>7452951</td>\n",
       "      <td>0.000566</td>\n",
       "      <td>0.028279</td>\n",
       "      <td>50</td>\n",
       "      <td>50.002161</td>\n",
       "    </tr>\n",
       "    <tr>\n",
       "      <th>263395</th>\n",
       "      <td>2021-03-05 23:55:00</td>\n",
       "      <td>7452952</td>\n",
       "      <td>0.000566</td>\n",
       "      <td>0.028279</td>\n",
       "      <td>50</td>\n",
       "      <td>50.002161</td>\n",
       "    </tr>\n",
       "  </tbody>\n",
       "</table>\n",
       "<p>263396 rows × 6 columns</p>\n",
       "</div>"
      ],
      "text/plain": [
       "              discoveryTime  segmentId  travelTime  lengthmm  speedLimitKph  \\\n",
       "0       2021-03-03 00:00:00     131016    0.000438  0.030651             70   \n",
       "1       2021-03-03 00:00:00     134879    0.000364  0.025508             70   \n",
       "2       2021-03-03 00:00:00     135146    0.000428  0.029935             70   \n",
       "3       2021-03-03 00:00:00     182928    0.000491  0.034413             70   \n",
       "4       2021-03-03 00:00:00     182929    0.000491  0.034413             70   \n",
       "...                     ...        ...         ...       ...            ...   \n",
       "263391  2021-03-05 23:55:00    7425668    0.000851  0.042529             50   \n",
       "263392  2021-03-05 23:55:00    7425669    0.000851  0.042529             50   \n",
       "263393  2021-03-05 23:55:00    7452950    0.000967  0.048346             50   \n",
       "263394  2021-03-05 23:55:00    7452951    0.000566  0.028279             50   \n",
       "263395  2021-03-05 23:55:00    7452952    0.000566  0.028279             50   \n",
       "\n",
       "            speed  \n",
       "0       70.014975  \n",
       "1       70.044851  \n",
       "2       70.023392  \n",
       "3       70.032108  \n",
       "4       70.032108  \n",
       "...           ...  \n",
       "263391  50.001437  \n",
       "263392  50.001437  \n",
       "263393  50.013103  \n",
       "263394  50.002161  \n",
       "263395  50.002161  \n",
       "\n",
       "[263396 rows x 6 columns]"
      ]
     },
     "execution_count": 5,
     "metadata": {},
     "output_type": "execute_result"
    }
   ],
   "source": [
    "\n",
    "\n",
    "df4_testdata[\"travelTime\"] = df4_testdata[\"travelTime\"]*2.77777778 * (1/10000000)\n",
    "\n",
    "df4_testdata[\"lengthmm\"] = df4_testdata[\"lengthmm\"]*(1/1000000)\n",
    "\n",
    "\n",
    "df2_testdata= pd.DataFrame(df4_testdata)\n",
    "\n",
    "df2_testdata['speed'] = df2_testdata[\"lengthmm\"] / df2_testdata[\"travelTime\"]\n",
    "\n",
    "\n",
    "\n",
    "df1[\"travelTime\"] = df1[\"travelTime\"]*2.77777778 * (1/10000000)\n",
    "\n",
    "df1[\"lengthmm\"] = df1[\"lengthmm\"]*(1/1000000)\n",
    "\n",
    "\n",
    "df2= pd.DataFrame(df1)\n",
    "\n",
    "df2['speed'] = df1[\"lengthmm\"] / df1[\"travelTime\"]\n",
    "\n",
    "df2"
   ]
  },
  {
   "cell_type": "code",
   "execution_count": null,
   "id": "e4c3fadf",
   "metadata": {},
   "outputs": [],
   "source": []
  },
  {
   "cell_type": "code",
   "execution_count": 6,
   "id": "cbfa705e",
   "metadata": {},
   "outputs": [],
   "source": [
    "\n",
    "df2.sort_values(by = \"segmentId\", ascending=True)\n",
    "\n",
    "df2[\"segmentId\"] = le1.fit_transform(df2[\"segmentId\"])"
   ]
  },
  {
   "cell_type": "code",
   "execution_count": 7,
   "id": "2adbdbf8",
   "metadata": {},
   "outputs": [
    {
     "data": {
      "text/html": [
       "<div>\n",
       "<style scoped>\n",
       "    .dataframe tbody tr th:only-of-type {\n",
       "        vertical-align: middle;\n",
       "    }\n",
       "\n",
       "    .dataframe tbody tr th {\n",
       "        vertical-align: top;\n",
       "    }\n",
       "\n",
       "    .dataframe thead th {\n",
       "        text-align: right;\n",
       "    }\n",
       "</style>\n",
       "<table border=\"1\" class=\"dataframe\">\n",
       "  <thead>\n",
       "    <tr style=\"text-align: right;\">\n",
       "      <th></th>\n",
       "      <th>discoveryTime</th>\n",
       "      <th>segmentId</th>\n",
       "      <th>travelTime</th>\n",
       "      <th>lengthmm</th>\n",
       "      <th>speedLimitKph</th>\n",
       "      <th>speed</th>\n",
       "    </tr>\n",
       "  </thead>\n",
       "  <tbody>\n",
       "    <tr>\n",
       "      <th>0</th>\n",
       "      <td>2021-03-03 00:00:00</td>\n",
       "      <td>0</td>\n",
       "      <td>0.000438</td>\n",
       "      <td>0.030651</td>\n",
       "      <td>70</td>\n",
       "      <td>70.014975</td>\n",
       "    </tr>\n",
       "    <tr>\n",
       "      <th>1</th>\n",
       "      <td>2021-03-03 00:00:00</td>\n",
       "      <td>1</td>\n",
       "      <td>0.000364</td>\n",
       "      <td>0.025508</td>\n",
       "      <td>70</td>\n",
       "      <td>70.044851</td>\n",
       "    </tr>\n",
       "    <tr>\n",
       "      <th>2</th>\n",
       "      <td>2021-03-03 00:00:00</td>\n",
       "      <td>2</td>\n",
       "      <td>0.000428</td>\n",
       "      <td>0.029935</td>\n",
       "      <td>70</td>\n",
       "      <td>70.023392</td>\n",
       "    </tr>\n",
       "    <tr>\n",
       "      <th>3</th>\n",
       "      <td>2021-03-03 00:00:00</td>\n",
       "      <td>3</td>\n",
       "      <td>0.000491</td>\n",
       "      <td>0.034413</td>\n",
       "      <td>70</td>\n",
       "      <td>70.032108</td>\n",
       "    </tr>\n",
       "    <tr>\n",
       "      <th>4</th>\n",
       "      <td>2021-03-03 00:00:00</td>\n",
       "      <td>4</td>\n",
       "      <td>0.000491</td>\n",
       "      <td>0.034413</td>\n",
       "      <td>70</td>\n",
       "      <td>70.032108</td>\n",
       "    </tr>\n",
       "    <tr>\n",
       "      <th>...</th>\n",
       "      <td>...</td>\n",
       "      <td>...</td>\n",
       "      <td>...</td>\n",
       "      <td>...</td>\n",
       "      <td>...</td>\n",
       "      <td>...</td>\n",
       "    </tr>\n",
       "    <tr>\n",
       "      <th>263391</th>\n",
       "      <td>2021-03-05 23:55:00</td>\n",
       "      <td>302</td>\n",
       "      <td>0.000851</td>\n",
       "      <td>0.042529</td>\n",
       "      <td>50</td>\n",
       "      <td>50.001437</td>\n",
       "    </tr>\n",
       "    <tr>\n",
       "      <th>263392</th>\n",
       "      <td>2021-03-05 23:55:00</td>\n",
       "      <td>303</td>\n",
       "      <td>0.000851</td>\n",
       "      <td>0.042529</td>\n",
       "      <td>50</td>\n",
       "      <td>50.001437</td>\n",
       "    </tr>\n",
       "    <tr>\n",
       "      <th>263393</th>\n",
       "      <td>2021-03-05 23:55:00</td>\n",
       "      <td>304</td>\n",
       "      <td>0.000967</td>\n",
       "      <td>0.048346</td>\n",
       "      <td>50</td>\n",
       "      <td>50.013103</td>\n",
       "    </tr>\n",
       "    <tr>\n",
       "      <th>263394</th>\n",
       "      <td>2021-03-05 23:55:00</td>\n",
       "      <td>305</td>\n",
       "      <td>0.000566</td>\n",
       "      <td>0.028279</td>\n",
       "      <td>50</td>\n",
       "      <td>50.002161</td>\n",
       "    </tr>\n",
       "    <tr>\n",
       "      <th>263395</th>\n",
       "      <td>2021-03-05 23:55:00</td>\n",
       "      <td>306</td>\n",
       "      <td>0.000566</td>\n",
       "      <td>0.028279</td>\n",
       "      <td>50</td>\n",
       "      <td>50.002161</td>\n",
       "    </tr>\n",
       "  </tbody>\n",
       "</table>\n",
       "<p>263396 rows × 6 columns</p>\n",
       "</div>"
      ],
      "text/plain": [
       "              discoveryTime  segmentId  travelTime  lengthmm  speedLimitKph  \\\n",
       "0       2021-03-03 00:00:00          0    0.000438  0.030651             70   \n",
       "1       2021-03-03 00:00:00          1    0.000364  0.025508             70   \n",
       "2       2021-03-03 00:00:00          2    0.000428  0.029935             70   \n",
       "3       2021-03-03 00:00:00          3    0.000491  0.034413             70   \n",
       "4       2021-03-03 00:00:00          4    0.000491  0.034413             70   \n",
       "...                     ...        ...         ...       ...            ...   \n",
       "263391  2021-03-05 23:55:00        302    0.000851  0.042529             50   \n",
       "263392  2021-03-05 23:55:00        303    0.000851  0.042529             50   \n",
       "263393  2021-03-05 23:55:00        304    0.000967  0.048346             50   \n",
       "263394  2021-03-05 23:55:00        305    0.000566  0.028279             50   \n",
       "263395  2021-03-05 23:55:00        306    0.000566  0.028279             50   \n",
       "\n",
       "            speed  \n",
       "0       70.014975  \n",
       "1       70.044851  \n",
       "2       70.023392  \n",
       "3       70.032108  \n",
       "4       70.032108  \n",
       "...           ...  \n",
       "263391  50.001437  \n",
       "263392  50.001437  \n",
       "263393  50.013103  \n",
       "263394  50.002161  \n",
       "263395  50.002161  \n",
       "\n",
       "[263396 rows x 6 columns]"
      ]
     },
     "execution_count": 7,
     "metadata": {},
     "output_type": "execute_result"
    }
   ],
   "source": [
    "df2"
   ]
  },
  {
   "cell_type": "code",
   "execution_count": 8,
   "id": "4745c1ba",
   "metadata": {},
   "outputs": [
    {
     "data": {
      "text/plain": [
       "<AxesSubplot:xlabel='segmentId'>"
      ]
     },
     "execution_count": 8,
     "metadata": {},
     "output_type": "execute_result"
    },
    {
     "data": {
      "image/png": "[encoded data removed]",
      "text/plain": [
       "<Figure size 1080x720 with 1 Axes>"
      ]
     },
     "metadata": {
      "needs_background": "light"
     },
     "output_type": "display_data"
    }
   ],
   "source": [
    "x_data1 = df2[[\"segmentId\",\"speedLimitKph\",\"speed\"]]\n",
    "\n",
    "x1_data = x_data1.groupby(by=\"segmentId\").mean()               #????\n",
    "\n",
    "x1_data.plot(figsize=(15,10))"
   ]
  },
  {
   "cell_type": "code",
   "execution_count": 35,
   "id": "a843f623",
   "metadata": {},
   "outputs": [
    {
     "data": {
      "text/plain": [
       "array([  6,  49,  50,  51,  52,  53,  54,  55,  56,  59,  60,  61,  62,\n",
       "        63,  64,  65,  66,  67,  68,  69,  70,  71,  72,  75, 100, 102,\n",
       "       103, 104, 105, 155, 156, 157, 161, 162, 182, 183, 184, 185, 187,\n",
       "       188, 195, 228, 229, 230, 253, 254, 301, 302, 303, 304, 305, 306],\n",
       "      dtype=int64)"
      ]
     },
     "execution_count": 35,
     "metadata": {},
     "output_type": "execute_result"
    }
   ],
   "source": [
    "df_segment = x1_data[\"speed\"]<45\n",
    "\n",
    "df1 = df_segment.reset_index()\n",
    "\n",
    "df1.drop(df1[df1['speed'] == False].index, inplace=True)\n",
    "\n",
    "df1[\"segmentId\"].unique()"
   ]
  },
  {
   "cell_type": "code",
   "execution_count": 10,
   "id": "e4a2f90b",
   "metadata": {},
   "outputs": [],
   "source": [
    "def segmentId(k):\n",
    "    df_segment = df2[\"segmentId\"] == k\n",
    "\n",
    "    dff = df_segment.reset_index()\n",
    "\n",
    "    dff = dff.drop(\"index\", axis=1)\n",
    "\n",
    "    dff[\"ss\"] = dff[\"segmentId\"]\n",
    "\n",
    "    dff1 = pd.concat((df2,dff),axis = 1)\n",
    "\n",
    "\n",
    "    dff1.drop(dff1[dff1['ss'] == False].index, inplace=True)\n",
    "\n",
    "\n",
    "    return dff1"
   ]
  },
  {
   "cell_type": "code",
   "execution_count": 11,
   "id": "e04a33c8",
   "metadata": {},
   "outputs": [],
   "source": [
    "dff1 = segmentId(49)"
   ]
  },
  {
   "cell_type": "code",
   "execution_count": 12,
   "id": "9cd8c114",
   "metadata": {},
   "outputs": [
    {
     "data": {
      "text/plain": [
       "<AxesSubplot:xlabel='discoveryTime'>"
      ]
     },
     "execution_count": 12,
     "metadata": {},
     "output_type": "execute_result"
    },
    {
     "data": {
      "image/png": "[encoded data removed]",
      "text/plain": [
       "<Figure size 1800x576 with 1 Axes>"
      ]
     },
     "metadata": {
      "needs_background": "light"
     },
     "output_type": "display_data"
    }
   ],
   "source": [
    "x_data = dff1[[\"discoveryTime\",\"speedLimitKph\",\"speed\"]]\n",
    "\n",
    "x_data.set_index(\"discoveryTime\")\n",
    "\n",
    "#x_data.groupby(by=\"discoveryTime\").mean().plot(figsize=(15,5) )\n",
    "x_data.set_index(\"discoveryTime\").plot(figsize=(25,8))\n",
    "\n"
   ]
  },
  {
   "cell_type": "code",
   "execution_count": 13,
   "id": "cc576ba7",
   "metadata": {},
   "outputs": [],
   "source": [
    "\n",
    "\n",
    "x_data.reset_index(inplace =True)\n"
   ]
  },
  {
   "cell_type": "code",
   "execution_count": 14,
   "id": "f265150b",
   "metadata": {},
   "outputs": [],
   "source": [
    "x_data = x_data.drop([\"index\",\"speedLimitKph\"], axis = 1)\n"
   ]
  },
  {
   "cell_type": "code",
   "execution_count": null,
   "id": "61c9ff89",
   "metadata": {},
   "outputs": [],
   "source": []
  },
  {
   "cell_type": "code",
   "execution_count": 15,
   "id": "9e122cd1",
   "metadata": {},
   "outputs": [],
   "source": [
    "x_data.set_index(\"discoveryTime\",inplace=True)\n",
    "\n",
    "x_data.index=pd.to_datetime(x_data.index)\n"
   ]
  },
  {
   "cell_type": "code",
   "execution_count": 16,
   "id": "aa5920dc",
   "metadata": {},
   "outputs": [
    {
     "data": {
      "text/plain": [
       "{'adf': -5.289469607265116,\n",
       " 'pvalue': 5.757478535244826e-06,\n",
       " 'usedlag': 18,\n",
       " 'nobs': 839,\n",
       " 'criticalvalues': {'1%': -3.438168140637663,\n",
       "  '5%': -2.864991017121922,\n",
       "  '10%': -2.5686076019468094},\n",
       " 'icbest': 5042.977853564223}"
      ]
     },
     "execution_count": 16,
     "metadata": {},
     "output_type": "execute_result"
    }
   ],
   "source": [
    "from statsmodels.tsa.stattools import adfuller\n",
    "\n",
    "\n",
    "result=adfuller(x_data['speed'])\n",
    "\n",
    "\n",
    "dict(zip(['adf', 'pvalue', 'usedlag', 'nobs', 'critical' 'values', 'icbest'],result))"
   ]
  },
  {
   "cell_type": "code",
   "execution_count": 17,
   "id": "4bc84d1d",
   "metadata": {},
   "outputs": [],
   "source": [
    "x_data['1difference']=x_data['speed']-x_data['speed'].shift(1)"
   ]
  },
  {
   "cell_type": "code",
   "execution_count": 18,
   "id": "2cf2a3d9",
   "metadata": {},
   "outputs": [
    {
     "data": {
      "text/plain": [
       "<AxesSubplot:xlabel='discoveryTime'>"
      ]
     },
     "execution_count": 18,
     "metadata": {},
     "output_type": "execute_result"
    },
    {
     "data": {
      "image/png": "[encoded data removed]",
      "text/plain": [
       "<Figure size 432x288 with 1 Axes>"
      ]
     },
     "metadata": {
      "needs_background": "light"
     },
     "output_type": "display_data"
    }
   ],
   "source": [
    "x_data['1difference'].plot()"
   ]
  },
  {
   "cell_type": "code",
   "execution_count": 19,
   "id": "7ddf3be6",
   "metadata": {},
   "outputs": [
    {
     "data": {
      "text/plain": [
       "(-7.8480908104592135,\n",
       " 5.697395588318449e-12,\n",
       " 21,\n",
       " 835,\n",
       " {'1%': -3.4382057088878644,\n",
       "  '5%': -2.865007578546518,\n",
       "  '10%': -2.5686164240381513},\n",
       " 5058.490087647511)"
      ]
     },
     "execution_count": 19,
     "metadata": {},
     "output_type": "execute_result"
    }
   ],
   "source": [
    "result=adfuller(x_data['1difference'].dropna())\n",
    "result"
   ]
  },
  {
   "cell_type": "code",
   "execution_count": 20,
   "id": "a88c5c6a",
   "metadata": {},
   "outputs": [
    {
     "data": {
      "text/plain": [
       "<AxesSubplot:xlabel='discoveryTime'>"
      ]
     },
     "execution_count": 20,
     "metadata": {},
     "output_type": "execute_result"
    },
    {
     "data": {
      "image/png": "[encoded data removed]",
      "text/plain": [
       "<Figure size 432x288 with 1 Axes>"
      ]
     },
     "metadata": {
      "needs_background": "light"
     },
     "output_type": "display_data"
    }
   ],
   "source": [
    "x_data['2difference']=x_data['1difference']-x_data['1difference'].shift(1)\n",
    "x_data['2difference'].plot()"
   ]
  },
  {
   "cell_type": "code",
   "execution_count": 21,
   "id": "09293b63",
   "metadata": {},
   "outputs": [
    {
     "data": {
      "text/plain": [
       "(-12.501402674920872,\n",
       " 2.8012893888732866e-23,\n",
       " 16,\n",
       " 839,\n",
       " {'1%': -3.438168140637663,\n",
       "  '5%': -2.864991017121922,\n",
       "  '10%': -2.5686076019468094},\n",
       " 5107.303364675661)"
      ]
     },
     "execution_count": 21,
     "metadata": {},
     "output_type": "execute_result"
    }
   ],
   "source": [
    "result=adfuller(x_data['2difference'].dropna())\n",
    "result"
   ]
  },
  {
   "cell_type": "code",
   "execution_count": 22,
   "id": "37693739",
   "metadata": {},
   "outputs": [
    {
     "data": {
      "image/png": "[encoded data removed]",
      "text/plain": [
       "<Figure size 432x288 with 1 Axes>"
      ]
     },
     "metadata": {
      "needs_background": "light"
     },
     "output_type": "display_data"
    }
   ],
   "source": [
    "x_data['Seasonal_Difference']=x_data['speed']-x_data['speed'].shift(288)\n",
    "\n",
    "\n",
    "ax=x_data['Seasonal_Difference'].plot()"
   ]
  },
  {
   "cell_type": "code",
   "execution_count": 23,
   "id": "c66e8a6e",
   "metadata": {},
   "outputs": [
    {
     "data": {
      "text/plain": [
       "{'adf': -5.509472114789585,\n",
       " 'pvalue': 1.987137447089181e-06,\n",
       " 'usedlag': 19,\n",
       " 'nobs': 550,\n",
       " 'criticalvalues': {'1%': -3.442295604706236,\n",
       "  '5%': -2.866809328264463,\n",
       "  '10%': -2.569576376859504},\n",
       " 'icbest': 3659.0800004830867}"
      ]
     },
     "execution_count": 23,
     "metadata": {},
     "output_type": "execute_result"
    }
   ],
   "source": [
    "result=adfuller((x_data['Seasonal_Difference']).dropna())\n",
    "dict(zip(['adf', 'pvalue', 'usedlag', 'nobs', 'critical' 'values', 'icbest'],result))"
   ]
  },
  {
   "cell_type": "code",
   "execution_count": 24,
   "id": "fd418703",
   "metadata": {},
   "outputs": [],
   "source": [
    "x_data['Seasonal_Difference1']=x_data['Seasonal_Difference']-x_data['Seasonal_Difference'].shift(288)"
   ]
  },
  {
   "cell_type": "code",
   "execution_count": 25,
   "id": "13631b62",
   "metadata": {},
   "outputs": [
    {
     "data": {
      "text/plain": [
       "(-3.1605957151338866,\n",
       " 0.02238188527493736,\n",
       " 10,\n",
       " 271,\n",
       " {'1%': -3.4547128138328875,\n",
       "  '5%': -2.8722649771800155,\n",
       "  '10%': -2.5724850011573914},\n",
       " 2063.2239988080573)"
      ]
     },
     "execution_count": 25,
     "metadata": {},
     "output_type": "execute_result"
    }
   ],
   "source": [
    "result=adfuller(x_data['Seasonal_Difference1'].dropna())\n",
    "result"
   ]
  },
  {
   "cell_type": "code",
   "execution_count": 26,
   "id": "d93fe6a6",
   "metadata": {},
   "outputs": [
    {
     "data": {
      "image/png": "[encoded data removed]",
      "text/plain": [
       "<Figure size 432x288 with 1 Axes>"
      ]
     },
     "metadata": {
      "needs_background": "light"
     },
     "output_type": "display_data"
    },
    {
     "data": {
      "image/png": "[encoded data removed]",
      "text/plain": [
       "<Figure size 432x288 with 1 Axes>"
      ]
     },
     "metadata": {
      "needs_background": "light"
     },
     "output_type": "display_data"
    }
   ],
   "source": [
    "from statsmodels.graphics.tsaplots import plot_acf, plot_pacf\n",
    "\n",
    "fig1=plot_acf(x_data['2difference'].dropna())\n",
    "\n",
    "fig2=plot_pacf(x_data['2difference'].dropna())"
   ]
  },
  {
   "cell_type": "code",
   "execution_count": 27,
   "id": "c963edf7",
   "metadata": {},
   "outputs": [
    {
     "data": {
      "image/png": "[encoded data removed]",
      "text/plain": [
       "<Figure size 432x288 with 1 Axes>"
      ]
     },
     "metadata": {
      "needs_background": "light"
     },
     "output_type": "display_data"
    },
    {
     "data": {
      "image/png": "[encoded data removed]",
      "text/plain": [
       "<Figure size 432x288 with 1 Axes>"
      ]
     },
     "metadata": {
      "needs_background": "light"
     },
     "output_type": "display_data"
    }
   ],
   "source": [
    "fig1=plot_acf(x_data['Seasonal_Difference1'].dropna())\n",
    "\n",
    "fig2=plot_pacf(x_data['Seasonal_Difference1'].dropna())"
   ]
  },
  {
   "cell_type": "code",
   "execution_count": 28,
   "id": "2a35d0a3",
   "metadata": {},
   "outputs": [],
   "source": [
    "\n",
    "#x_data.index = x_data.index.to_timestamp(freq ='5min')\n",
    "x_data.index = pd.DatetimeIndex(x_data.index).to_period('5min')"
   ]
  },
  {
   "cell_type": "code",
   "execution_count": 29,
   "id": "72a7f469",
   "metadata": {},
   "outputs": [],
   "source": [
    "from statsmodels.tsa.statespace.sarimax import SARIMAX\n",
    "model=SARIMAX(x_data['speed'],order=(0,2,0),seasonal_order=(0, 1, 0, 288))\n",
    "result=model.fit()"
   ]
  },
  {
   "cell_type": "code",
   "execution_count": 30,
   "id": "c0e4574c",
   "metadata": {},
   "outputs": [],
   "source": [
    "x_data.index = x_data.index.to_timestamp(freq ='5min')"
   ]
  },
  {
   "cell_type": "code",
   "execution_count": 31,
   "id": "79065491",
   "metadata": {},
   "outputs": [],
   "source": [
    "from pandas.tseries.offsets import DateOffset\n",
    "\n",
    "\n",
    "new_dates=[x_data.index[-1]+ DateOffset(minutes=5*x) for x in range(1,2881)] #2593\n",
    "\n",
    "df_pred=pd.DataFrame(index=new_dates, columns =x_data.columns)\n",
    "\n",
    "\n",
    "df_pred1 = pd.concat([x_data,df_pred],axis = 0)"
   ]
  },
  {
   "cell_type": "code",
   "execution_count": null,
   "id": "9acb9763",
   "metadata": {},
   "outputs": [],
   "source": []
  },
  {
   "cell_type": "code",
   "execution_count": 32,
   "id": "b1d67b0b",
   "metadata": {},
   "outputs": [],
   "source": [
    "df_pred1.index = pd.DatetimeIndex(df_pred1.index).to_period('5min')\n",
    "\n",
    "#df_pred.index = df_pred.index.to_timestamp(freq ='5min')"
   ]
  },
  {
   "cell_type": "code",
   "execution_count": null,
   "id": "7e7e5313",
   "metadata": {},
   "outputs": [],
   "source": []
  },
  {
   "cell_type": "code",
   "execution_count": 33,
   "id": "913567ec",
   "metadata": {},
   "outputs": [
    {
     "data": {
      "text/plain": [
       "<AxesSubplot:>"
      ]
     },
     "execution_count": 33,
     "metadata": {},
     "output_type": "execute_result"
    },
    {
     "data": {
      "image/png": "[encoded data removed]",
      "text/plain": [
       "<Figure size 720x360 with 1 Axes>"
      ]
     },
     "metadata": {
      "needs_background": "light"
     },
     "output_type": "display_data"
    }
   ],
   "source": [
    "\n",
    "\n",
    "df_pred1['predictions'] = result.predict(start='2021-03-15 00:00:00', end='2021-03-15 23:55:00')\n",
    "df_pred1[[\"speed\",\"predictions\"]].plot(figsize=(10,5))\n"
   ]
  },
  {
   "cell_type": "code",
   "execution_count": 36,
   "id": "6d4bbbc0",
   "metadata": {},
   "outputs": [
    {
     "data": {
      "text/plain": [
       "<AxesSubplot:>"
      ]
     },
     "execution_count": 36,
     "metadata": {},
     "output_type": "execute_result"
    },
    {
     "data": {
      "image/png": "[encoded data removed]",
      "text/plain": [
       "<Figure size 432x288 with 1 Axes>"
      ]
     },
     "metadata": {
      "needs_background": "light"
     },
     "output_type": "display_data"
    }
   ],
   "source": [
    "df_pred1[3450:][\"predictions\"].plot()"
   ]
  },
  {
   "cell_type": "code",
   "execution_count": 37,
   "id": "7a7dea4a",
   "metadata": {},
   "outputs": [
    {
     "data": {
      "text/plain": [
       "<AxesSubplot:xlabel='discoveryTime'>"
      ]
     },
     "execution_count": 37,
     "metadata": {},
     "output_type": "execute_result"
    },
    {
     "data": {
      "image/png": "[encoded data removed]",
      "text/plain": [
       "<Figure size 432x288 with 1 Axes>"
      ]
     },
     "metadata": {
      "needs_background": "light"
     },
     "output_type": "display_data"
    }
   ],
   "source": [
    "test_data = df4_testdata[df4_testdata.segmentId == 49]\n",
    "\n",
    "test_data.set_index(\"discoveryTime\",inplace=True)\n",
    "test_data.index=pd.to_datetime(test_data.index)\n",
    "test_data[\"speed\"].plot()"
   ]
  },
  {
   "cell_type": "code",
   "execution_count": 38,
   "id": "82d0b137",
   "metadata": {},
   "outputs": [
    {
     "data": {
      "text/html": [
       "<div>\n",
       "<style scoped>\n",
       "    .dataframe tbody tr th:only-of-type {\n",
       "        vertical-align: middle;\n",
       "    }\n",
       "\n",
       "    .dataframe tbody tr th {\n",
       "        vertical-align: top;\n",
       "    }\n",
       "\n",
       "    .dataframe thead th {\n",
       "        text-align: right;\n",
       "    }\n",
       "</style>\n",
       "<table border=\"1\" class=\"dataframe\">\n",
       "  <thead>\n",
       "    <tr style=\"text-align: right;\">\n",
       "      <th></th>\n",
       "      <th>speed</th>\n",
       "      <th>1difference</th>\n",
       "      <th>2difference</th>\n",
       "      <th>Seasonal_Difference</th>\n",
       "      <th>Seasonal_Difference1</th>\n",
       "    </tr>\n",
       "  </thead>\n",
       "  <tbody>\n",
       "    <tr>\n",
       "      <th>2021-03-06 00:00:00</th>\n",
       "      <td>NaN</td>\n",
       "      <td>NaN</td>\n",
       "      <td>NaN</td>\n",
       "      <td>NaN</td>\n",
       "      <td>NaN</td>\n",
       "    </tr>\n",
       "    <tr>\n",
       "      <th>2021-03-06 00:05:00</th>\n",
       "      <td>NaN</td>\n",
       "      <td>NaN</td>\n",
       "      <td>NaN</td>\n",
       "      <td>NaN</td>\n",
       "      <td>NaN</td>\n",
       "    </tr>\n",
       "    <tr>\n",
       "      <th>2021-03-06 00:10:00</th>\n",
       "      <td>NaN</td>\n",
       "      <td>NaN</td>\n",
       "      <td>NaN</td>\n",
       "      <td>NaN</td>\n",
       "      <td>NaN</td>\n",
       "    </tr>\n",
       "    <tr>\n",
       "      <th>2021-03-06 00:15:00</th>\n",
       "      <td>NaN</td>\n",
       "      <td>NaN</td>\n",
       "      <td>NaN</td>\n",
       "      <td>NaN</td>\n",
       "      <td>NaN</td>\n",
       "    </tr>\n",
       "    <tr>\n",
       "      <th>2021-03-06 00:20:00</th>\n",
       "      <td>NaN</td>\n",
       "      <td>NaN</td>\n",
       "      <td>NaN</td>\n",
       "      <td>NaN</td>\n",
       "      <td>NaN</td>\n",
       "    </tr>\n",
       "    <tr>\n",
       "      <th>...</th>\n",
       "      <td>...</td>\n",
       "      <td>...</td>\n",
       "      <td>...</td>\n",
       "      <td>...</td>\n",
       "      <td>...</td>\n",
       "    </tr>\n",
       "    <tr>\n",
       "      <th>2021-03-15 23:35:00</th>\n",
       "      <td>NaN</td>\n",
       "      <td>NaN</td>\n",
       "      <td>NaN</td>\n",
       "      <td>NaN</td>\n",
       "      <td>NaN</td>\n",
       "    </tr>\n",
       "    <tr>\n",
       "      <th>2021-03-15 23:40:00</th>\n",
       "      <td>NaN</td>\n",
       "      <td>NaN</td>\n",
       "      <td>NaN</td>\n",
       "      <td>NaN</td>\n",
       "      <td>NaN</td>\n",
       "    </tr>\n",
       "    <tr>\n",
       "      <th>2021-03-15 23:45:00</th>\n",
       "      <td>NaN</td>\n",
       "      <td>NaN</td>\n",
       "      <td>NaN</td>\n",
       "      <td>NaN</td>\n",
       "      <td>NaN</td>\n",
       "    </tr>\n",
       "    <tr>\n",
       "      <th>2021-03-15 23:50:00</th>\n",
       "      <td>NaN</td>\n",
       "      <td>NaN</td>\n",
       "      <td>NaN</td>\n",
       "      <td>NaN</td>\n",
       "      <td>NaN</td>\n",
       "    </tr>\n",
       "    <tr>\n",
       "      <th>2021-03-15 23:55:00</th>\n",
       "      <td>NaN</td>\n",
       "      <td>NaN</td>\n",
       "      <td>NaN</td>\n",
       "      <td>NaN</td>\n",
       "      <td>NaN</td>\n",
       "    </tr>\n",
       "  </tbody>\n",
       "</table>\n",
       "<p>2880 rows × 5 columns</p>\n",
       "</div>"
      ],
      "text/plain": [
       "                    speed 1difference 2difference Seasonal_Difference  \\\n",
       "2021-03-06 00:00:00   NaN         NaN         NaN                 NaN   \n",
       "2021-03-06 00:05:00   NaN         NaN         NaN                 NaN   \n",
       "2021-03-06 00:10:00   NaN         NaN         NaN                 NaN   \n",
       "2021-03-06 00:15:00   NaN         NaN         NaN                 NaN   \n",
       "2021-03-06 00:20:00   NaN         NaN         NaN                 NaN   \n",
       "...                   ...         ...         ...                 ...   \n",
       "2021-03-15 23:35:00   NaN         NaN         NaN                 NaN   \n",
       "2021-03-15 23:40:00   NaN         NaN         NaN                 NaN   \n",
       "2021-03-15 23:45:00   NaN         NaN         NaN                 NaN   \n",
       "2021-03-15 23:50:00   NaN         NaN         NaN                 NaN   \n",
       "2021-03-15 23:55:00   NaN         NaN         NaN                 NaN   \n",
       "\n",
       "                    Seasonal_Difference1  \n",
       "2021-03-06 00:00:00                  NaN  \n",
       "2021-03-06 00:05:00                  NaN  \n",
       "2021-03-06 00:10:00                  NaN  \n",
       "2021-03-06 00:15:00                  NaN  \n",
       "2021-03-06 00:20:00                  NaN  \n",
       "...                                  ...  \n",
       "2021-03-15 23:35:00                  NaN  \n",
       "2021-03-15 23:40:00                  NaN  \n",
       "2021-03-15 23:45:00                  NaN  \n",
       "2021-03-15 23:50:00                  NaN  \n",
       "2021-03-15 23:55:00                  NaN  \n",
       "\n",
       "[2880 rows x 5 columns]"
      ]
     },
     "execution_count": 38,
     "metadata": {},
     "output_type": "execute_result"
    }
   ],
   "source": [
    "\n",
    "\n",
    "\n",
    "df_predFiltered = df_pred1.iloc[3450:,:]\n",
    "df_pred"
   ]
  },
  {
   "cell_type": "code",
   "execution_count": null,
   "id": "9c763c24",
   "metadata": {},
   "outputs": [],
   "source": []
  },
  {
   "cell_type": "code",
   "execution_count": 39,
   "id": "ef653f60",
   "metadata": {},
   "outputs": [
    {
     "data": {
      "text/plain": [
       "2021-03-15 00:00    50.00413\n",
       "2021-03-15 00:05    50.00413\n",
       "2021-03-15 00:10    50.00413\n",
       "2021-03-15 00:15    50.00413\n",
       "2021-03-15 00:20    50.00413\n",
       "                      ...   \n",
       "2021-03-15 23:35    50.00413\n",
       "2021-03-15 23:40    50.00413\n",
       "2021-03-15 23:45    50.00413\n",
       "2021-03-15 23:50    50.00413\n",
       "2021-03-15 23:55    50.00413\n",
       "Freq: 5T, Name: predictions, Length: 288, dtype: float64"
      ]
     },
     "execution_count": 39,
     "metadata": {},
     "output_type": "execute_result"
    }
   ],
   "source": [
    "df_pred1[3450:][\"predictions\"]"
   ]
  },
  {
   "cell_type": "code",
   "execution_count": 40,
   "id": "a967df34",
   "metadata": {},
   "outputs": [
    {
     "data": {
      "text/html": [
       "<div>\n",
       "<style scoped>\n",
       "    .dataframe tbody tr th:only-of-type {\n",
       "        vertical-align: middle;\n",
       "    }\n",
       "\n",
       "    .dataframe tbody tr th {\n",
       "        vertical-align: top;\n",
       "    }\n",
       "\n",
       "    .dataframe thead th {\n",
       "        text-align: right;\n",
       "    }\n",
       "</style>\n",
       "<table border=\"1\" class=\"dataframe\">\n",
       "  <thead>\n",
       "    <tr style=\"text-align: right;\">\n",
       "      <th></th>\n",
       "      <th>index</th>\n",
       "      <th>discoveryTime</th>\n",
       "      <th>segmentId</th>\n",
       "      <th>travelTime</th>\n",
       "      <th>coverage</th>\n",
       "      <th>lengthmm</th>\n",
       "      <th>speedLimitKph</th>\n",
       "      <th>speed</th>\n",
       "    </tr>\n",
       "  </thead>\n",
       "  <tbody>\n",
       "    <tr>\n",
       "      <th>0</th>\n",
       "      <td>49</td>\n",
       "      <td>2021-03-15 00:00:00</td>\n",
       "      <td>49</td>\n",
       "      <td>0.000538</td>\n",
       "      <td>10</td>\n",
       "      <td>0.026905</td>\n",
       "      <td>50</td>\n",
       "      <td>50.00413</td>\n",
       "    </tr>\n",
       "    <tr>\n",
       "      <th>1</th>\n",
       "      <td>356</td>\n",
       "      <td>2021-03-15 00:05:00</td>\n",
       "      <td>49</td>\n",
       "      <td>0.000538</td>\n",
       "      <td>10</td>\n",
       "      <td>0.026905</td>\n",
       "      <td>50</td>\n",
       "      <td>50.00413</td>\n",
       "    </tr>\n",
       "    <tr>\n",
       "      <th>2</th>\n",
       "      <td>663</td>\n",
       "      <td>2021-03-15 00:10:00</td>\n",
       "      <td>49</td>\n",
       "      <td>0.000538</td>\n",
       "      <td>10</td>\n",
       "      <td>0.026905</td>\n",
       "      <td>50</td>\n",
       "      <td>50.00413</td>\n",
       "    </tr>\n",
       "    <tr>\n",
       "      <th>3</th>\n",
       "      <td>970</td>\n",
       "      <td>2021-03-15 00:15:00</td>\n",
       "      <td>49</td>\n",
       "      <td>0.000538</td>\n",
       "      <td>10</td>\n",
       "      <td>0.026905</td>\n",
       "      <td>50</td>\n",
       "      <td>50.00413</td>\n",
       "    </tr>\n",
       "    <tr>\n",
       "      <th>4</th>\n",
       "      <td>1277</td>\n",
       "      <td>2021-03-15 00:20:00</td>\n",
       "      <td>49</td>\n",
       "      <td>0.000538</td>\n",
       "      <td>10</td>\n",
       "      <td>0.026905</td>\n",
       "      <td>50</td>\n",
       "      <td>50.00413</td>\n",
       "    </tr>\n",
       "    <tr>\n",
       "      <th>...</th>\n",
       "      <td>...</td>\n",
       "      <td>...</td>\n",
       "      <td>...</td>\n",
       "      <td>...</td>\n",
       "      <td>...</td>\n",
       "      <td>...</td>\n",
       "      <td>...</td>\n",
       "      <td>...</td>\n",
       "    </tr>\n",
       "    <tr>\n",
       "      <th>264</th>\n",
       "      <td>81097</td>\n",
       "      <td>2021-03-15 23:36:00</td>\n",
       "      <td>49</td>\n",
       "      <td>0.000538</td>\n",
       "      <td>10</td>\n",
       "      <td>0.026905</td>\n",
       "      <td>50</td>\n",
       "      <td>50.00413</td>\n",
       "    </tr>\n",
       "    <tr>\n",
       "      <th>265</th>\n",
       "      <td>81404</td>\n",
       "      <td>2021-03-15 23:41:00</td>\n",
       "      <td>49</td>\n",
       "      <td>0.000538</td>\n",
       "      <td>10</td>\n",
       "      <td>0.026905</td>\n",
       "      <td>50</td>\n",
       "      <td>50.00413</td>\n",
       "    </tr>\n",
       "    <tr>\n",
       "      <th>266</th>\n",
       "      <td>81711</td>\n",
       "      <td>2021-03-15 23:46:00</td>\n",
       "      <td>49</td>\n",
       "      <td>0.000538</td>\n",
       "      <td>10</td>\n",
       "      <td>0.026905</td>\n",
       "      <td>50</td>\n",
       "      <td>50.00413</td>\n",
       "    </tr>\n",
       "    <tr>\n",
       "      <th>267</th>\n",
       "      <td>82018</td>\n",
       "      <td>2021-03-15 23:51:00</td>\n",
       "      <td>49</td>\n",
       "      <td>0.000538</td>\n",
       "      <td>10</td>\n",
       "      <td>0.026905</td>\n",
       "      <td>50</td>\n",
       "      <td>50.00413</td>\n",
       "    </tr>\n",
       "    <tr>\n",
       "      <th>268</th>\n",
       "      <td>82325</td>\n",
       "      <td>2021-03-15 23:56:00</td>\n",
       "      <td>49</td>\n",
       "      <td>0.000538</td>\n",
       "      <td>10</td>\n",
       "      <td>0.026905</td>\n",
       "      <td>50</td>\n",
       "      <td>50.00413</td>\n",
       "    </tr>\n",
       "  </tbody>\n",
       "</table>\n",
       "<p>269 rows × 8 columns</p>\n",
       "</div>"
      ],
      "text/plain": [
       "     index        discoveryTime  segmentId  travelTime  coverage  lengthmm  \\\n",
       "0       49  2021-03-15 00:00:00         49    0.000538        10  0.026905   \n",
       "1      356  2021-03-15 00:05:00         49    0.000538        10  0.026905   \n",
       "2      663  2021-03-15 00:10:00         49    0.000538        10  0.026905   \n",
       "3      970  2021-03-15 00:15:00         49    0.000538        10  0.026905   \n",
       "4     1277  2021-03-15 00:20:00         49    0.000538        10  0.026905   \n",
       "..     ...                  ...        ...         ...       ...       ...   \n",
       "264  81097  2021-03-15 23:36:00         49    0.000538        10  0.026905   \n",
       "265  81404  2021-03-15 23:41:00         49    0.000538        10  0.026905   \n",
       "266  81711  2021-03-15 23:46:00         49    0.000538        10  0.026905   \n",
       "267  82018  2021-03-15 23:51:00         49    0.000538        10  0.026905   \n",
       "268  82325  2021-03-15 23:56:00         49    0.000538        10  0.026905   \n",
       "\n",
       "     speedLimitKph     speed  \n",
       "0               50  50.00413  \n",
       "1               50  50.00413  \n",
       "2               50  50.00413  \n",
       "3               50  50.00413  \n",
       "4               50  50.00413  \n",
       "..             ...       ...  \n",
       "264             50  50.00413  \n",
       "265             50  50.00413  \n",
       "266             50  50.00413  \n",
       "267             50  50.00413  \n",
       "268             50  50.00413  \n",
       "\n",
       "[269 rows x 8 columns]"
      ]
     },
     "execution_count": 40,
     "metadata": {},
     "output_type": "execute_result"
    }
   ],
   "source": [
    "test_data = df4_testdata[df4_testdata.segmentId == 49]\n",
    "\n",
    "test_data.reset_index(inplace = True)\n",
    "test_data"
   ]
  },
  {
   "cell_type": "code",
   "execution_count": 54,
   "id": "24981876",
   "metadata": {},
   "outputs": [
    {
     "data": {
      "text/plain": [
       "array([[50.00413006],\n",
       "       [50.00413006],\n",
       "       [50.00413006],\n",
       "       [50.00413006],\n",
       "       [50.00413006],\n",
       "       [50.00413006],\n",
       "       [50.00413006],\n",
       "       [50.00413006],\n",
       "       [50.00413006],\n",
       "       [50.00413006],\n",
       "       [50.00413006],\n",
       "       [50.00413006],\n",
       "       [50.00413006],\n",
       "       [50.00413006],\n",
       "       [50.00413006],\n",
       "       [50.00413006],\n",
       "       [50.00413006],\n",
       "       [50.00413006],\n",
       "       [50.00413006],\n",
       "       [50.00413006],\n",
       "       [50.00413006],\n",
       "       [50.00413006],\n",
       "       [50.00413006],\n",
       "       [50.00413006],\n",
       "       [50.00413006],\n",
       "       [50.00413006],\n",
       "       [50.00413006],\n",
       "       [50.00413006],\n",
       "       [50.00413006],\n",
       "       [50.00413006],\n",
       "       [50.00413006],\n",
       "       [50.00413006],\n",
       "       [50.00413006],\n",
       "       [50.00413006],\n",
       "       [50.00413006],\n",
       "       [50.00413006],\n",
       "       [50.00413006],\n",
       "       [50.00413006],\n",
       "       [50.00413006],\n",
       "       [50.00413006],\n",
       "       [50.00413006],\n",
       "       [50.00413006],\n",
       "       [50.00413006],\n",
       "       [50.00413006],\n",
       "       [50.00413006],\n",
       "       [50.00413006],\n",
       "       [50.00413006],\n",
       "       [50.00413006],\n",
       "       [50.00413006],\n",
       "       [50.00413006],\n",
       "       [50.00413006],\n",
       "       [50.00413006],\n",
       "       [50.00413006],\n",
       "       [50.00413006],\n",
       "       [50.00413006],\n",
       "       [50.00413006],\n",
       "       [50.00413006],\n",
       "       [50.00413006],\n",
       "       [50.00413006],\n",
       "       [50.00413006],\n",
       "       [50.00413006],\n",
       "       [50.00413006],\n",
       "       [50.00413006],\n",
       "       [50.00413006],\n",
       "       [50.00413006],\n",
       "       [50.00413006],\n",
       "       [50.00413006],\n",
       "       [50.00413006],\n",
       "       [50.00413006],\n",
       "       [50.00413006],\n",
       "       [50.00413006],\n",
       "       [50.00413006],\n",
       "       [50.00413006],\n",
       "       [50.00413006],\n",
       "       [50.00413006],\n",
       "       [50.00413006],\n",
       "       [50.00413006],\n",
       "       [50.00413006],\n",
       "       [50.00413006],\n",
       "       [50.00413006],\n",
       "       [50.00413006],\n",
       "       [50.00413006],\n",
       "       [50.00413006],\n",
       "       [50.00413006],\n",
       "       [50.00413006],\n",
       "       [50.00413006],\n",
       "       [50.00413006],\n",
       "       [50.00413006],\n",
       "       [50.00413006],\n",
       "       [50.00413006],\n",
       "       [50.00413006],\n",
       "       [50.00413006],\n",
       "       [50.00413006],\n",
       "       [50.00413006],\n",
       "       [50.00413006],\n",
       "       [50.00413006],\n",
       "       [50.00413006],\n",
       "       [48.11624437],\n",
       "       [38.20828399],\n",
       "       [33.46855561],\n",
       "       [36.91234753],\n",
       "       [31.00448141],\n",
       "       [30.38205769],\n",
       "       [16.75743943],\n",
       "       [19.00294289],\n",
       "       [36.96870226],\n",
       "       [34.23753974],\n",
       "       [41.41000424],\n",
       "       [36.98281784],\n",
       "       [39.13454542],\n",
       "       [36.31721032],\n",
       "       [19.5910194 ],\n",
       "       [18.40007597],\n",
       "       [23.79803438],\n",
       "       [27.33013542],\n",
       "       [23.56642334],\n",
       "       [20.77160625],\n",
       "       [29.94990721],\n",
       "       [34.32246631],\n",
       "       [36.82813685],\n",
       "       [24.04617674],\n",
       "       [28.00983225],\n",
       "       [36.00669142],\n",
       "       [38.85198553],\n",
       "       [38.74319997],\n",
       "       [50.00413006],\n",
       "       [50.00413006],\n",
       "       [50.00413006],\n",
       "       [50.00413006],\n",
       "       [50.00413006],\n",
       "       [50.00413006],\n",
       "       [50.00413006],\n",
       "       [50.00413006],\n",
       "       [50.00413006],\n",
       "       [50.00413006],\n",
       "       [50.00413006],\n",
       "       [50.00413006],\n",
       "       [50.00413006],\n",
       "       [50.00413006],\n",
       "       [50.00413006],\n",
       "       [50.00413006],\n",
       "       [50.00413006],\n",
       "       [50.00413006],\n",
       "       [49.11663282],\n",
       "       [50.00413006],\n",
       "       [50.00413006],\n",
       "       [50.00413006],\n",
       "       [50.00413006],\n",
       "       [50.00413006],\n",
       "       [50.00413006],\n",
       "       [50.00413006],\n",
       "       [50.00413006],\n",
       "       [50.00413006],\n",
       "       [50.00413006],\n",
       "       [50.00413006],\n",
       "       [50.00413006],\n",
       "       [50.00413006],\n",
       "       [50.00413006],\n",
       "       [50.00413006],\n",
       "       [50.00413006],\n",
       "       [50.00413006],\n",
       "       [50.00413006],\n",
       "       [50.00413006],\n",
       "       [50.00413006],\n",
       "       [50.00413006],\n",
       "       [50.00413006],\n",
       "       [50.00413006],\n",
       "       [50.00413006],\n",
       "       [50.00413006],\n",
       "       [35.7277757 ],\n",
       "       [41.76714098],\n",
       "       [50.00413006],\n",
       "       [50.00413006],\n",
       "       [50.00413006],\n",
       "       [50.00413006],\n",
       "       [50.00413006],\n",
       "       [50.00413006],\n",
       "       [50.00413006],\n",
       "       [50.00413006],\n",
       "       [50.00413006],\n",
       "       [50.00413006],\n",
       "       [50.00413006],\n",
       "       [50.00413006],\n",
       "       [50.00413006],\n",
       "       [50.00413006],\n",
       "       [50.00413006],\n",
       "       [50.00413006]])"
      ]
     },
     "execution_count": 54,
     "metadata": {},
     "output_type": "execute_result"
    }
   ],
   "source": [
    "yy_pred = df_pred1[3450:3637][\"predictions\"].values.reshape(len(df_pred1[3450:3637][\"predictions\"]),1)\n",
    "\n",
    "yy_test = test_data[:187][\"speed\"].values.reshape(len(test_data[:187][\"speed\"]),1)\n"
   ]
  },
  {
   "cell_type": "code",
   "execution_count": 56,
   "id": "b84b80b8",
   "metadata": {},
   "outputs": [
    {
     "name": "stdout",
     "output_type": "stream",
     "text": [
      "Mean Squared Error değeri: 56.47434\n"
     ]
    }
   ],
   "source": [
    "def mSE(y_pred, y_test):\n",
    "    \n",
    "    return np.sum((y_pred- y_test)**2) / len(y_pred)\n",
    "\n",
    "\n",
    "\n",
    "\n",
    "print(\"Mean Squared Error değeri: \"+ str(round(mSE(yy_pred,yy_test),5)))\n"
   ]
  },
  {
   "cell_type": "code",
   "execution_count": 57,
   "id": "29a11463",
   "metadata": {},
   "outputs": [
    {
     "data": {
      "text/plain": [
       "56.47434266812928"
      ]
     },
     "execution_count": 57,
     "metadata": {},
     "output_type": "execute_result"
    }
   ],
   "source": [
    "from sklearn.metrics import mean_squared_error\n",
    "\n",
    "mean_squared_error(yy_pred,yy_test)\n"
   ]
  },
  {
   "cell_type": "code",
   "execution_count": null,
   "id": "b0a2dd2f",
   "metadata": {},
   "outputs": [],
   "source": []
  },
  {
   "cell_type": "code",
   "execution_count": null,
   "id": "226cac40",
   "metadata": {},
   "outputs": [],
   "source": []
  },
  {
   "cell_type": "code",
   "execution_count": null,
   "id": "296c8a32",
   "metadata": {},
   "outputs": [],
   "source": []
  },
  {
   "cell_type": "code",
   "execution_count": null,
   "id": "d679674d",
   "metadata": {},
   "outputs": [],
   "source": []
  },
  {
   "cell_type": "code",
   "execution_count": null,
   "id": "7fdd1949",
   "metadata": {},
   "outputs": [],
   "source": []
  }
 ],
 "metadata": {
  "kernelspec": {
   "display_name": "Python 3",
   "language": "python",
   "name": "python3"
  },
  "language_info": {
   "codemirror_mode": {
    "name": "ipython",
    "version": 3
   },
   "file_extension": ".py",
   "mimetype": "text/x-python",
   "name": "python",
   "nbconvert_exporter": "python",
   "pygments_lexer": "ipython3",
   "version": "3.8.8"
  }
 },
 "nbformat": 4,
 "nbformat_minor": 5
}
